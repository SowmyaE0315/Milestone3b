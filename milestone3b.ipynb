{
 "cells": [
  {
   "cell_type": "code",
   "execution_count": 1,
   "metadata": {},
   "outputs": [
    {
     "data": {
      "text/plain": [
       "array([3591], dtype=int64)"
      ]
     },
     "execution_count": 1,
     "metadata": {},
     "output_type": "execute_result"
    }
   ],
   "source": [
    "import pandas as pd\n",
    "from sklearn.tree import DecisionTreeClassifier\n",
    "from sklearn.model_selection import train_test_split\n",
    "\n",
    "filename='insurance.csv'\n",
    "insuranceinfo=pd.read_csv(filename)\n",
    "x=insuranceinfo.drop(columns=['expenses'])\n",
    "y=insuranceinfo['expenses']\n",
    "\n",
    "model=DecisionTreeClassifier()\n",
    "model.fit(x,y)\n",
    "predictions=model.predict([[24,1,33,3]])\n",
    "predictions"
   ]
  },
  {
   "cell_type": "code",
   "execution_count": 2,
   "metadata": {},
   "outputs": [
    {
     "data": {
      "text/plain": [
       "array([ 4889,  1964,  6551,  2302,  7050,  3594, 17626, 16069, 22331,\n",
       "        4687, 23306,  4529, 63770, 12646, 24873,  6796, 39597, 27808,\n",
       "       22412,  8603,  7325, 46130, 12557,  7160, 44585,  2203, 10795,\n",
       "        3591,  2207,  7727, 15518,  7421, 47403,  7935,  8334,  8944,\n",
       "       10807,  3176, 10959,  1759,  1837,  4762, 10197, 13974,  3056,\n",
       "       20709,  6837,  3176, 21348, 12629,  9447, 20984, 13390,  8124,\n",
       "        1984,  7985, 24869,  6775,  1877, 12347,  1149,  3227,  8606,\n",
       "        1256,  4340, 11674, 34828,  1984,  2219, 10355,  2219, 37484,\n",
       "       11830,  5377,  1261,  6686, 37607, 15170, 19040,  4133, 29186,\n",
       "       19719,  9872, 11946, 43254,  7624, 11848, 17942,  1263,  6551,\n",
       "        5584,  9644,  2867, 24873, 11286, 19040,  4992,  1880,  2498,\n",
       "       13887,  8280, 18648, 12268,  1880, 12646, 42983, 12224,  6555,\n",
       "        2566,  6282, 10461, 42211,  3481, 19040,  6358, 19040,  1639,\n",
       "       47403,  8240,  1877, 44400,  1631, 29523,  7243,  4837, 13470,\n",
       "        9800, 25333,  1815,  6338,  8428,  6282,  4718,  4500],\n",
       "      dtype=int64)"
      ]
     },
     "execution_count": 2,
     "metadata": {},
     "output_type": "execute_result"
    }
   ],
   "source": [
    "import pandas as pd\n",
    "from sklearn.tree import DecisionTreeClassifier\n",
    "from sklearn.model_selection import train_test_split\n",
    "\n",
    "filename='insurance.csv'\n",
    "insuranceinfo=pd.read_csv(filename)\n",
    "x=insuranceinfo.drop(columns=['expenses'])\n",
    "y=insuranceinfo['expenses']\n",
    "x_train,x_test,y_train,y_test=train_test_split(x,y,test_size=0.1)\n",
    "model2=DecisionTreeClassifier()\n",
    "model2.fit(x_train,y_train)\n",
    "predictions=model2.predict(x_test)\n",
    "predictions"
   ]
  },
  {
   "cell_type": "code",
   "execution_count": 3,
   "metadata": {},
   "outputs": [
    {
     "data": {
      "text/plain": [
       "0.05223880597014925"
      ]
     },
     "execution_count": 3,
     "metadata": {},
     "output_type": "execute_result"
    }
   ],
   "source": [
    "from sklearn.metrics import accuracy_score\n",
    "score=accuracy_score(y_test,predictions)\n",
    "score"
   ]
  }
 ],
 "metadata": {
  "kernelspec": {
   "display_name": "Python 3",
   "language": "python",
   "name": "python3"
  },
  "language_info": {
   "codemirror_mode": {
    "name": "ipython",
    "version": 3
   },
   "file_extension": ".py",
   "mimetype": "text/x-python",
   "name": "python",
   "nbconvert_exporter": "python",
   "pygments_lexer": "ipython3",
   "version": "3.8.5"
  }
 },
 "nbformat": 4,
 "nbformat_minor": 4
}
